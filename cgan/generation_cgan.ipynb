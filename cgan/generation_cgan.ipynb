{
 "cells": [
  {
   "cell_type": "code",
   "execution_count": null,
   "metadata": {},
   "outputs": [],
   "source": [
    "# import sys\n",
    "# sys.path.append(\"..\")\n",
    "import numpy as np\n",
    "import os\n",
    "import json\n",
    "from glob import glob\n",
    "from tqdm import tqdm\n",
    "import torch\n",
    "import matplotlib.pyplot as plt, cv2\n",
    "import utils.workspace as ws\n",
    "from models.generator.generator import Generator\n",
    "import time\n",
    "\n",
    "from RRTStar.rrt_star import RRTStar\n",
    "from numpy.linalg import norm\n"
   ]
  },
  {
   "cell_type": "code",
   "execution_count": null,
   "metadata": {},
   "outputs": [],
   "source": [
    "path_img = \"../2dDeepSDF/data/test/test_images\"\n",
    "filenames_img = sorted(glob(os.path.join(path_img, \"*.jpg\")))\n",
    "imgs = [cv2.imread(f) for f in filenames_img]\n",
    "\n",
    "env_data_folder = \"../2dDeepSDF/chomp256/Reconstructions/test/codes\"\n",
    "filenames_env = sorted(glob(os.path.join(env_data_folder, '*.npy')))\n",
    "envs = [np.load(f).squeeze() for f in filenames_env ]\n",
    "\n",
    "#obstacles\n",
    "obs_path = \"../metrics/obstacle_zone_test.json\"\n",
    "obs_list_all = json.load(open(obs_path))\n",
    "obs_list_all = [obs_list_all[k] for k in sorted(obs_list_all.keys())]\n",
    "\n",
    "print(\"Found {} images\".format(len(filenames_img)))\n",
    "print(\"Found {} obs list\".format(len(obs_list_all)))\n",
    "print(\"Found {} Latent codes\".format(len(filenames_env)))"
   ]
  },
  {
   "cell_type": "code",
   "execution_count": null,
   "metadata": {},
   "outputs": [],
   "source": [
    "#Loading the model\n",
    "use_cuda = torch.cuda.is_available()\n",
    "if use_cuda:\n",
    "    device = torch.device(\"cuda\")\n",
    "    print(\"Using GPU\")\n",
    "else:\n",
    "    device = torch.device(\"cpu\")\n",
    "    print(\"Using CPU\")\n",
    "\n",
    "experiment_directory = \"models\"\n",
    "checkpoint = str(600)\n",
    "specs = ws.load_experiment_specifications(experiment_directory)\n",
    "\n",
    "\n",
    "# Instantiating the generator\n",
    "specs_g = specs[\"generator\"]\n",
    "input_dim = specs_g[\"InputDim\"]\n",
    "n_points = specs_g[\"NPoints\"]\n",
    "generator = Generator(input_dim, n_points).to(device)\n",
    "\n",
    "path_to_model_dir = os.path.join(experiment_directory,\"generator\", ws.model_params_dir)\n",
    "print(\"Loading checkpoint {} model from: {}\".format(\n",
    "    checkpoint, os.path.abspath(path_to_model_dir)))\n",
    "generator.load_model_parameters(path_to_model_dir, checkpoint)\n",
    "\n",
    "print('############# Generator Model: #####################')\n",
    "print(generator)\n",
    "print('######################################################')\n",
    "generator.to(device)\n",
    "generator.eval()"
   ]
  },
  {
   "cell_type": "code",
   "execution_count": null,
   "metadata": {},
   "outputs": [],
   "source": [
    "def generate_plot(start, goal, img_nb, envs=envs, imgs=imgs):\n",
    "    start = np.array(start) / 63\n",
    "    goal = np.array(goal) / 63\n",
    "    img = imgs[img_nb]\n",
    "    env = np.squeeze(envs[img_nb])\n",
    "    \n",
    "    inputs = np.concatenate([env,start, goal], axis=0)\n",
    "\n",
    "    inputs = torch.from_numpy(inputs).unsqueeze(0).to(device).float()\n",
    "    with torch.no_grad():\n",
    "        trajectory_intermediate = generator(inputs).squeeze().cpu().numpy()\n",
    "    trajectory = np.concatenate([start, trajectory_intermediate, goal], axis=0).reshape(-1,2) *63\n",
    "    print(trajectory.tolist())\n",
    "    \n",
    "    # Plotting the treajectory\n",
    "    x = trajectory[:,0]\n",
    "    y = trajectory[:,1]\n",
    "    \n",
    "#     fig, axes= plt.subplots(nrows=1, ncols=1,figsize=(6,3))\n",
    "\n",
    "    plt.plot(x, y, \"-o\")\n",
    "    plt.gca().invert_yaxis()\n",
    "    plt.imshow(img)\n",
    "#     plt.show()\n",
    "    plt.title(\"Generated trajectory\")\n",
    "    plt.draw()"
   ]
  },
  {
   "cell_type": "code",
   "execution_count": null,
   "metadata": {},
   "outputs": [],
   "source": [
    "%matplotlib qt\n",
    "start, goal = [20,40], [50, 10]\n",
    "img_nb = 1\n",
    "generate_plot(start, goal, img_nb)"
   ]
  },
  {
   "cell_type": "code",
   "execution_count": null,
   "metadata": {},
   "outputs": [],
   "source": []
  },
  {
   "cell_type": "code",
   "execution_count": null,
   "metadata": {},
   "outputs": [],
   "source": []
  },
  {
   "cell_type": "code",
   "execution_count": null,
   "metadata": {},
   "outputs": [],
   "source": []
  },
  {
   "cell_type": "code",
   "execution_count": null,
   "metadata": {},
   "outputs": [],
   "source": []
  },
  {
   "cell_type": "markdown",
   "metadata": {},
   "source": [
    "# Success Rate / Collision checking"
   ]
  },
  {
   "cell_type": "code",
   "execution_count": null,
   "metadata": {},
   "outputs": [],
   "source": [
    "obs_path = \"../metrics/obstacle_zone_test.json\"\n",
    "obs_zone_all = json.load(open(obs_path))\n",
    "obs_zone_all = [obs_zone_all[k] for k in sorted(obs_zone_all.keys())]"
   ]
  },
  {
   "cell_type": "code",
   "execution_count": null,
   "metadata": {},
   "outputs": [],
   "source": [
    "sg_path = \"../metrics/start_goal_test.json\"\n",
    "sg_all = json.load(open(sg_path))\n",
    "sg_all = [sg_all[k] for k in sorted(sg_all.keys())]"
   ]
  },
  {
   "cell_type": "code",
   "execution_count": null,
   "metadata": {},
   "outputs": [],
   "source": [
    "def generate_paths(sg_list, env):\n",
    "    \"\"\" Generate a set of trajectories for only one environment\"\"\"\n",
    "#     for k in range(len(sg_list)):\n",
    "    sg_list = np.array(sg_list).reshape(-1, 4) / 63\n",
    "    start, goal = sg_list[:, :2], sg_list[:, 2:]\n",
    "    env_new = np.broadcast_to(env, (sg_list.shape[0], env.shape[0]))\n",
    "    inputs = np.concatenate(\n",
    "        (env_new, sg_list), axis=1)\n",
    "    inputs = torch.from_numpy(inputs).to(device).float()\n",
    "    with torch.no_grad():\n",
    "        trajectory_intermediate = generator(inputs).squeeze().cpu().numpy()\n",
    "    trajectories = np.concatenate([start, trajectory_intermediate, goal], axis=1).reshape(-1,64,2) *63\n",
    "    return trajectories"
   ]
  },
  {
   "cell_type": "code",
   "execution_count": null,
   "metadata": {},
   "outputs": [],
   "source": [
    "sg = sg_all[0]\n",
    "env = envs[0]\n",
    "generate_paths(sg, env)"
   ]
  },
  {
   "cell_type": "code",
   "execution_count": null,
   "metadata": {},
   "outputs": [],
   "source": [
    "def check_collision(traj, obs_list):\n",
    "    \"\"\"Check whether a trajectory collide with an environment\"\"\"\n",
    "    n_collision = 0\n",
    "    path_x = traj[:, 0]\n",
    "    path_y = traj[:, 1]\n",
    "    for o in obs_list:\n",
    "        ox, oy = o\n",
    "        dx_list = [ox - x for x in path_x]\n",
    "        dy_list = [oy - y for y in path_y]\n",
    "        d_list = [dx * dx + dy * dy for (dx, dy) in zip(dx_list, dy_list)]\n",
    "        n_collision += len([c for c in d_list if c < 0.5])\n",
    "    if n_collision > 1:\n",
    "        print(\"Number of collision: {}\".format(n_collision))\n",
    "        return 0  # collision\n",
    "    return 1 # avoid\n",
    "#     print(\"Number of collision: {}\".format(n_collision))"
   ]
  },
  {
   "cell_type": "code",
   "execution_count": null,
   "metadata": {},
   "outputs": [],
   "source": [
    "def eval_success_rate(start_goal_list_all, obs_list_all, envs):\n",
    "    success_rate = {}\n",
    "    #loop over all environments\n",
    "    for k in tqdm(range(len(obs_list_all))):\n",
    "        obs_list = obs_list_all[k]\n",
    "        sg_list = sg_all[k]\n",
    "        env = envs[k]\n",
    "        paths = generate_paths(sg_list, env)\n",
    "        # store n_avoid avoidance for each path\n",
    "        n_avoid = [check_collision(path, obs_list) for path in paths]\n",
    "        success_rate[k] = n_avoid\n",
    "        path_to_success_rate = \"success_rate_test.json\"\n",
    "        json.dump(success_rate, open(path_to_success_rate, \"w\"))\n",
    "    return success_rate"
   ]
  },
  {
   "cell_type": "code",
   "execution_count": null,
   "metadata": {},
   "outputs": [],
   "source": [
    "new_sr = eval_success_rate(sg_all, obs_zone_all, envs)"
   ]
  },
  {
   "cell_type": "code",
   "execution_count": null,
   "metadata": {},
   "outputs": [],
   "source": [
    "sr = new_sr"
   ]
  },
  {
   "cell_type": "code",
   "execution_count": null,
   "metadata": {},
   "outputs": [],
   "source": [
    "# path_to_success_rate = \"success_rate.json\"\n",
    "# json.dump(sr, open(path_to_success_rate, \"w\"))"
   ]
  },
  {
   "cell_type": "markdown",
   "metadata": {},
   "source": [
    "## Visualize success rate"
   ]
  },
  {
   "cell_type": "code",
   "execution_count": null,
   "metadata": {},
   "outputs": [],
   "source": [
    "success_rate_list = [np.round(np.mean(np.array(sr[k])), 5) for k in sorted(sr.keys())]"
   ]
  },
  {
   "cell_type": "code",
   "execution_count": null,
   "metadata": {},
   "outputs": [],
   "source": [
    "success_rates = [\"SuccessRate\"] + success_rate_list\n",
    "environments = [\"Environment\"] + list(range(500))"
   ]
  },
  {
   "cell_type": "code",
   "execution_count": null,
   "metadata": {},
   "outputs": [],
   "source": []
  },
  {
   "cell_type": "markdown",
   "metadata": {},
   "source": [
    "### Path cost "
   ]
  },
  {
   "cell_type": "code",
   "execution_count": null,
   "metadata": {},
   "outputs": [],
   "source": [
    "def eval_path_cost(paths, output_path_cost):\n",
    "    \"\"\"Compute the path cost of all trajectories and saves a 1-d npy array of all trajectories\"\"\"\n",
    "#     paths = paths * 63\n",
    "    ###########\n",
    "    def path_cost(path):\n",
    "        cost = 0\n",
    "        for k in range(len(path)-1):\n",
    "            p, q = path[k], path[k+1]\n",
    "            cost += norm(p-q)\n",
    "        return cost\n",
    "    ###########\n",
    "\n",
    "    path_cost_all = np.apply_along_axis(path_cost, 1, paths)\n",
    "    np.save(output_path_cost, path_cost_all)"
   ]
  },
  {
   "cell_type": "code",
   "execution_count": null,
   "metadata": {},
   "outputs": [],
   "source": []
  },
  {
   "cell_type": "code",
   "execution_count": null,
   "metadata": {},
   "outputs": [],
   "source": []
  },
  {
   "cell_type": "code",
   "execution_count": null,
   "metadata": {},
   "outputs": [],
   "source": [
    "def compare_rrtstar(start, goal, img_nb, envs=envs, imgs=imgs, obs_list_all=obs_list_all, rrt=True):\n",
    "    start = np.array(start) / 63\n",
    "    goal = np.array(goal) / 63\n",
    "    img = imgs[img_nb]\n",
    "    img = 1 - np.round(img / 255)\n",
    "    print(\"Image {} | start {} - goal {} \".format(img_nb,start*63, goal*63))\n",
    "    env = np.squeeze(envs[img_nb])\n",
    "    obs_list = obs_list_all[img_nb]\n",
    "    \n",
    "    inputs = np.concatenate([env,start, goal], axis=0)\n",
    "\n",
    "    inputs = torch.from_numpy(inputs).unsqueeze(0).to(device).float()\n",
    "    with torch.no_grad():\n",
    "        start_time_net = time.time()\n",
    "        trajectory_intermediate = generator(inputs).squeeze().cpu().numpy()\n",
    "        end_time_net = time.time()\n",
    "        \n",
    "    trajectory = np.concatenate([start, trajectory_intermediate, goal], axis=0).reshape(-1,2) * 63\n",
    "    path = None\n",
    "    if rrt:\n",
    "        #rrtstar\n",
    "        rrt_star = RRTStar(start=start*63,\n",
    "                    goal=goal*63,\n",
    "                    rand_area=[0, 63],\n",
    "                    obstacle_list=obs_list,\n",
    "                    obstacle_radius=0.6)\n",
    "        print(\"RRT finding path\")\n",
    "        start_time_rrt = time.time()\n",
    "        path = rrt_star.planning(animation=True)\n",
    "        end_time_rrt = time.time()\n",
    "    \n",
    "        #######\n",
    "        def path_cost(path):\n",
    "            cost = 0\n",
    "            for k in range(len(path)-1):\n",
    "                p, q = path[k], path[k+1]\n",
    "                cost += norm(p-q)\n",
    "            return cost\n",
    "        ######\n",
    "        path_cost_net = path_cost(trajectory)\n",
    "        path_cost_rrt = path_cost(np.array(path))\n",
    "        print(\"Network path cost\", path_cost_net)\n",
    "        print(\"RRT* path cost\", path_cost_rrt)\n",
    "    \n",
    "    #comp time\n",
    "    \n",
    "    # Plotting the treajectory\n",
    "    x = trajectory[:,0]\n",
    "    y = trajectory[:,1]\n",
    "    \n",
    "#     fig, axes= plt.subplots(nrows=1, ncols=1,figsize=(6,3))\n",
    "    my_dpi = 200\n",
    "    fig = plt.figure(figsize=(800/my_dpi, 800/my_dpi), dpi=my_dpi)\n",
    "\n",
    "    ax = plt.Axes(fig, [0., 0., 1., 1.])\n",
    "    ax.set_axis_off()\n",
    "    fig.add_axes(ax)\n",
    "\n",
    "    ax.plot([x[0], x[-1]], [y[0], y[-1]], \"or\")\n",
    "    ax.plot(x, y, \"-\", linewidth=3)\n",
    "    if path is not None:\n",
    "        #comp time\n",
    "        print(\"Found rrt path in {}\".format(end_time_rrt-start_time_rrt))\n",
    "        print(\"Found net path in {}\".format(end_time_net-start_time_net))\n",
    "        x_r = [c[0] for c in path]\n",
    "        y_r = [c[1] for c in path]\n",
    "        ax.plot(x_r, y_r, \"-\")\n",
    "#     ax.gca().invert_yaxis()\n",
    "    ax.imshow(img)\n",
    "#     plt.show()\n",
    "#     ax.title(\"Generated trajectory\")\n",
    "    plt.show()"
   ]
  },
  {
   "cell_type": "code",
   "execution_count": null,
   "metadata": {},
   "outputs": [],
   "source": [
    "%matplotlib qt\n",
    "rrt = False\n",
    "start, goal = [50,30], [20, 20]\n",
    "img_nb = 61\n",
    "compare_rrtstar(start, goal, img_nb, rrt=rrt)"
   ]
  },
  {
   "cell_type": "code",
   "execution_count": null,
   "metadata": {},
   "outputs": [],
   "source": []
  }
 ],
 "metadata": {
  "kernelspec": {
   "display_name": "Python 3",
   "language": "python",
   "name": "python3"
  },
  "language_info": {
   "codemirror_mode": {
    "name": "ipython",
    "version": 3
   },
   "file_extension": ".py",
   "mimetype": "text/x-python",
   "name": "python",
   "nbconvert_exporter": "python",
   "pygments_lexer": "ipython3",
   "version": "3.7.3"
  }
 },
 "nbformat": 4,
 "nbformat_minor": 2
}
