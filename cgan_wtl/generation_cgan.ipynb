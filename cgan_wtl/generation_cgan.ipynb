{
 "cells": [
  {
   "cell_type": "code",
   "execution_count": 1,
   "metadata": {},
   "outputs": [],
   "source": [
    "import numpy as np\n",
    "import os\n",
    "import json\n",
    "from glob import glob\n",
    "from tqdm import tqdm\n",
    "import torch\n",
    "import matplotlib.pyplot as plt\n",
    "import utils.workspace as ws\n",
    "from models.generator.generator import Generator\n"
   ]
  },
  {
   "cell_type": "code",
   "execution_count": null,
   "metadata": {},
   "outputs": [],
   "source": [
    "# path_img = \"../2dDeepSDF/data/test/test_images\"\n",
    "filenames_img = sorted(glob(os.path.join(path_img, \"*.jpg\")))\n",
    "imgs = [plt.imread(f) for f in filenames_img]\n",
    "\n",
    "# I/O paths\n",
    "env_data_folder = \"../2dDeepSDF/chomp256/Reconstructions/test/codes\"\n",
    "filenames_env = sorted(glob(os.path.join(env_data_folder, '*.npy')))\n",
    "envs = [np.load(f) for f in filenames_env ]\n",
    "\n",
    "print(\"Found {} images\".format(len(filenames_img)))\n",
    "print(\"Found {} Latent codes\".format(len(filenames_env)))"
   ]
  },
  {
   "cell_type": "code",
   "execution_count": 3,
   "metadata": {
    "collapsed": true
   },
   "outputs": [
    {
     "name": "stdout",
     "output_type": "stream",
     "text": [
      "Using GPU\n",
      "Loading checkpoint 500 model from: /home/user/Documents/Alassane/motionPlanning/2d/2d_trajectory_generator/cgan_wtl/models/generator/ModelParameters\n",
      "############# Generator Model: #####################\n",
      "Generator(\n",
      "  (model): Sequential(\n",
      "    (0): Linear(in_features=260, out_features=128, bias=True)\n",
      "    (1): LeakyReLU(negative_slope=0.2, inplace=True)\n",
      "    (2): Linear(in_features=128, out_features=256, bias=True)\n",
      "    (3): BatchNorm1d(256, eps=0.8, momentum=0.1, affine=True, track_running_stats=True)\n",
      "    (4): LeakyReLU(negative_slope=0.2, inplace=True)\n",
      "    (5): Linear(in_features=256, out_features=512, bias=True)\n",
      "    (6): BatchNorm1d(512, eps=0.8, momentum=0.1, affine=True, track_running_stats=True)\n",
      "    (7): LeakyReLU(negative_slope=0.2, inplace=True)\n",
      "    (8): Linear(in_features=512, out_features=512, bias=True)\n",
      "    (9): BatchNorm1d(512, eps=0.8, momentum=0.1, affine=True, track_running_stats=True)\n",
      "    (10): LeakyReLU(negative_slope=0.2, inplace=True)\n",
      "    (11): Linear(in_features=512, out_features=124, bias=True)\n",
      "    (12): Sigmoid()\n",
      "  )\n",
      ")\n",
      "######################################################\n"
     ]
    },
    {
     "data": {
      "text/plain": [
       "Generator(\n",
       "  (model): Sequential(\n",
       "    (0): Linear(in_features=260, out_features=128, bias=True)\n",
       "    (1): LeakyReLU(negative_slope=0.2, inplace=True)\n",
       "    (2): Linear(in_features=128, out_features=256, bias=True)\n",
       "    (3): BatchNorm1d(256, eps=0.8, momentum=0.1, affine=True, track_running_stats=True)\n",
       "    (4): LeakyReLU(negative_slope=0.2, inplace=True)\n",
       "    (5): Linear(in_features=256, out_features=512, bias=True)\n",
       "    (6): BatchNorm1d(512, eps=0.8, momentum=0.1, affine=True, track_running_stats=True)\n",
       "    (7): LeakyReLU(negative_slope=0.2, inplace=True)\n",
       "    (8): Linear(in_features=512, out_features=512, bias=True)\n",
       "    (9): BatchNorm1d(512, eps=0.8, momentum=0.1, affine=True, track_running_stats=True)\n",
       "    (10): LeakyReLU(negative_slope=0.2, inplace=True)\n",
       "    (11): Linear(in_features=512, out_features=124, bias=True)\n",
       "    (12): Sigmoid()\n",
       "  )\n",
       ")"
      ]
     },
     "execution_count": 3,
     "metadata": {},
     "output_type": "execute_result"
    }
   ],
   "source": [
    "use_cuda = torch.cuda.is_available()\n",
    "if use_cuda:\n",
    "    device = torch.device(\"cuda\")\n",
    "    print(\"Using GPU\")\n",
    "else:\n",
    "    device = torch.device(\"cpu\")\n",
    "    print(\"Using CPU\")\n",
    "\n",
    "experiment_directory = \"models\"\n",
    "checkpoint = str(500)\n",
    "specs = ws.load_experiment_specifications(experiment_directory)\n",
    "\n",
    "\n",
    "# Instantiating the generator\n",
    "specs_g = specs[\"generator\"]\n",
    "input_dim = specs_g[\"InputDim\"]\n",
    "n_points = specs_g[\"NPoints\"]\n",
    "generator = Generator(input_dim, n_points).to(device)\n",
    "\n",
    "path_to_model_dir = os.path.join(experiment_directory,\"generator\", ws.model_params_dir)\n",
    "print(\"Loading checkpoint {} model from: {}\".format(\n",
    "    checkpoint, os.path.abspath(path_to_model_dir)))\n",
    "generator.load_model_parameters(path_to_model_dir, checkpoint)\n",
    "\n",
    "print('############# Generator Model: #####################')\n",
    "print(generator)\n",
    "print('######################################################')\n",
    "generator.to(device)\n",
    "generator.eval()"
   ]
  },
  {
   "cell_type": "code",
   "execution_count": 4,
   "metadata": {},
   "outputs": [
    {
     "data": {
      "text/plain": [
       "<matplotlib.image.AxesImage at 0x2b4308868c50>"
      ]
     },
     "execution_count": 4,
     "metadata": {},
     "output_type": "execute_result"
    },
    {
     "data": {
      "image/png": "[encoded data removed]",
      "text/plain": [
       "<Figure size 432x288 with 1 Axes>"
      ]
     },
     "metadata": {
      "needs_background": "light"
     },
     "output_type": "display_data"
    }
   ],
   "source": [
    "plt.imshow(imgs[0])"
   ]
  },
  {
   "cell_type": "code",
   "execution_count": 7,
   "metadata": {},
   "outputs": [],
   "source": [
    "def generate(start, goal, img_nb, envs=envs, imgs=imgs):\n",
    "    start = np.array(start) / 63\n",
    "    goal = np.array(goal) / 63\n",
    "    img = imgs[img_nb]\n",
    "    env = np.squeeze(envs[img_nb])\n",
    "    \n",
    "    inputs = np.concatenate([env,start, goal], axis=0)\n",
    "\n",
    "    inputs = torch.from_numpy(inputs).unsqueeze(0).to(device).float()\n",
    "    with torch.no_grad():\n",
    "        trajectory_intermediate = generator(inputs).squeeze().cpu().numpy()\n",
    "    trajectory = np.concatenate([start, trajectory_intermediate, goal], axis=0).reshape(-1,2) *64\n",
    "    \n",
    "    # Plotting the treajectory\n",
    "    x = trajectory[:,0]\n",
    "    y = trajectory[:,1]\n",
    "    \n",
    "#     fig, axes= plt.subplots(nrows=1, ncols=1,figsize=(6,3))\n",
    "\n",
    "    plt.plot(x, y, \"o\")\n",
    "    plt.gca().invert_yaxis()\n",
    "    plt.imshow(img)\n",
    "#     plt.show()\n",
    "    plt.title(\"Generated trajectory\")\n",
    "    plt.draw()\n"
   ]
  },
  {
   "cell_type": "code",
   "execution_count": 12,
   "metadata": {},
   "outputs": [],
   "source": [
    "%matplotlib qt\n",
    "start, goal = [30,40], [50, 10]\n",
    "img_nb = 7\n",
    "generate(start, goal, img_nb)"
   ]
  }
 ],
 "metadata": {
  "kernelspec": {
   "display_name": "Python 3",
   "language": "python",
   "name": "python3"
  },
  "language_info": {
   "codemirror_mode": {
    "name": "ipython",
    "version": 3
   },
   "file_extension": ".py",
   "mimetype": "text/x-python",
   "name": "python",
   "nbconvert_exporter": "python",
   "pygments_lexer": "ipython3",
   "version": "3.7.3"
  }
 },
 "nbformat": 4,
 "nbformat_minor": 2
}
