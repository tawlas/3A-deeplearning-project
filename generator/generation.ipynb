{
 "cells": [
  {
   "cell_type": "code",
   "execution_count": 8,
   "metadata": {},
   "outputs": [],
   "source": [
    "import numpy as np\n",
    "import os\n",
    "import json\n",
    "from glob import glob\n",
    "from tqdm import tqdm\n",
    "import torch\n",
    "import matplotlib.pyplot as plt\n",
    "import utils.workspace as ws\n",
    "from generator.generator import Generator\n",
    "%matplotlib qt"
   ]
  },
  {
   "cell_type": "code",
   "execution_count": 2,
   "metadata": {},
   "outputs": [
    {
     "name": "stdout",
     "output_type": "stream",
     "text": [
      "Found 1000 images\n",
      "Found 1000 Latent codes\n"
     ]
    }
   ],
   "source": [
    "# path_traj = \"./data/trajectories_interpolated\"\n",
    "path_img = \"../2dDeepSDF/data/random_obstacle/BW\"\n",
    "# filenames_traj = sorted(glob(os.path.join(path_traj, \"*.json\")))\n",
    "# trajectories_dict_all = [json.load(open(f)) for f in filenames_traj]\n",
    "filenames_img = sorted(glob(os.path.join(path_img, \"*.jpg\")))\n",
    "imgs = [plt.imread(f) for f in filenames_img]\n",
    "\n",
    "# I/O paths\n",
    "# env_data_folder = specs[\"eval\"][\"EnvDataFolder\"]\n",
    "env_data_folder = \"../2dDeepSDF/chomp256/Reconstructions/Codes\"\n",
    "filenames_env = sorted(glob(os.path.join(env_data_folder, '*.npy')))\n",
    "envs = [np.load(f) for f in filenames_env ]\n",
    "\n",
    "print(\"Found {} images\".format(len(filenames_img)))\n",
    "print(\"Found {} Latent codes\".format(len(filenames_env)))"
   ]
  },
  {
   "cell_type": "code",
   "execution_count": null,
   "metadata": {
    "scrolled": true
   },
   "outputs": [],
   "source": [
    "use_cuda = torch.cuda.is_available()\n",
    "if use_cuda:\n",
    "    device = torch.device(\"cuda\")\n",
    "    print(\"Using GPU\")\n",
    "else:\n",
    "    device = torch.device(\"cpu\")\n",
    "    print(\"Using CPU\")\n",
    "\n",
    "experiment_directory = \"generator\"\n",
    "checkpoint = str(200)\n",
    "specs = ws.load_experiment_specifications(experiment_directory)\n",
    "\n",
    "# Instantiating the model\n",
    "input_dim = specs[\"InputDim\"]\n",
    "output_dim = specs[\"OutputDim\"]\n",
    "hid_dim = specs[\"HiddenDim\"]\n",
    "n_layers = specs[\"NLayers\"]\n",
    "dropout = specs[\"Dropout\"]\n",
    "model = Generator(input_dim, output_dim, hid_dim,\n",
    "                  n_layers).to(device)\n",
    "\n",
    "path_to_model_dir = os.path.join(experiment_directory, ws.model_params_dir)\n",
    "print(\"Loading checkpoint {} model from: {}\".format(\n",
    "    checkpoint, os.path.abspath(path_to_model_dir)))\n",
    "model.load_model_parameters(path_to_model_dir, checkpoint)\n",
    "\n",
    "print('############# Generator Model: #####################')\n",
    "print(model)\n",
    "print('######################################################')\n",
    "model.to(device)\n",
    "model.eval()"
   ]
  },
  {
   "cell_type": "code",
   "execution_count": 4,
   "metadata": {},
   "outputs": [
    {
     "data": {
      "text/plain": [
       "<matplotlib.image.AxesImage at 0x2ae7763f8210>"
      ]
     },
     "execution_count": 4,
     "metadata": {},
     "output_type": "execute_result"
    },
    {
     "data": {
      "image/png": "[encoded data removed]",
      "text/plain": [
       "<Figure size 432x288 with 1 Axes>"
      ]
     },
     "metadata": {
      "needs_background": "light"
     },
     "output_type": "display_data"
    }
   ],
   "source": [
    "plt.imshow(imgs[0])"
   ]
  },
  {
   "cell_type": "code",
   "execution_count": 15,
   "metadata": {},
   "outputs": [],
   "source": [
    "def generate(start, goal, img_nb, envs=envs, imgs=imgs):\n",
    "    start = np.array(start) / 63\n",
    "    goal = np.array(goal) / 63\n",
    "    img = imgs[img_nb]\n",
    "    env = torch.from_numpy(envs[img_nb]).to(device)\n",
    "    trajectory_points = []\n",
    "    inputs = torch.from_numpy(np.array([start])).to(device).float()\n",
    "    seq_length = specs[\"SeqLength\"]\n",
    "    h = model.init_hidden(1)\n",
    "    with torch.no_grad():\n",
    "        for timestep in range(seq_length-2):\n",
    "            inputs = torch.cat([env, inputs], dim=-1).unsqueeze(1)\n",
    "            inputs, h = model(inputs, h)\n",
    "            trajectory_points.append(inputs.squeeze().cpu().numpy())\n",
    "    \n",
    "    # prepending and appending respectively start and goal\n",
    "    trajectory_points = np.array(trajectory_points)\n",
    "\n",
    "    \n",
    "    trajectory = np.vstack(\n",
    "        [start.reshape(1,2), trajectory_points, goal.reshape(1, 2)])\n",
    "    trajectory = trajectory * 63\n",
    "    print(trajectory)\n",
    "    \n",
    "    \n",
    "    x = trajectory[:,0]\n",
    "    y = trajectory[:,1]\n",
    "    \n",
    "    \n",
    "    plt.plot(x, y, \"-o\")\n",
    "    plt.gca().invert_yaxis()\n",
    "    plt.imshow(img)\n",
    "#     plt.show()\n",
    "    plt.title(\"Generated trajectory\")\n"
   ]
  },
  {
   "cell_type": "code",
   "execution_count": 19,
   "metadata": {},
   "outputs": [
    {
     "name": "stdout",
     "output_type": "stream",
     "text": [
      "[[34.         40.        ]\n",
      " [33.41898751 34.81810123]\n",
      " [36.01375651 36.25130743]\n",
      " [38.59944195 37.37319767]\n",
      " [40.96643454 38.22950149]\n",
      " [42.93505687 38.74734378]\n",
      " [44.42224628 38.88547111]\n",
      " [45.42789388 38.7080242 ]\n",
      " [46.02478838 38.34319818]\n",
      " [46.32521832 37.91711533]\n",
      " [46.43363535 37.51672107]\n",
      " [46.4244504  37.18244272]\n",
      " [46.34472227 36.92060387]\n",
      " [46.22423261 36.72130609]\n",
      " [46.08262807 36.57078695]\n",
      " [45.93316787 36.45683116]\n",
      " [45.78471029 36.37006223]\n",
      " [45.64301562 36.30364591]\n",
      " [45.51157612 36.25267428]\n",
      " [45.39230686 36.21357626]\n",
      " [45.28600395 36.18368196]\n",
      " [45.19267112 36.16098994]\n",
      " [45.11182022 36.14393806]\n",
      " [45.0426026  36.13130218]\n",
      " [44.98398936 36.12211722]\n",
      " [44.93486148 36.11560214]\n",
      " [44.89408118 36.11114109]\n",
      " [44.86054444 36.10824215]\n",
      " [44.83322614 36.10649604]\n",
      " [44.81116498 36.10560608]\n",
      " [44.79352355 36.10532069]\n",
      " [44.77955085 36.10545212]\n",
      " [44.76859349 36.10586518]\n",
      " [44.76009947 36.10643971]\n",
      " [44.75358438 36.10710061]\n",
      " [44.7486577  36.1077953 ]\n",
      " [44.74498522 36.10848248]\n",
      " [44.74230409 36.10912836]\n",
      " [44.74038523 36.10972917]\n",
      " [44.73904842 36.1102699 ]\n",
      " [44.73815471 36.11075056]\n",
      " [44.73759145 36.11116737]\n",
      " [44.73726851 36.11152786]\n",
      " [44.7371183  36.11183202]\n",
      " [44.73708451 36.11208737]\n",
      " [44.73712957 36.11230141]\n",
      " [44.7372272  36.11247414]\n",
      " [44.73734736 36.11262059]\n",
      " [44.7374863  36.112737  ]\n",
      " [44.73762524 36.11282337]\n",
      " [44.73775667 36.11289847]\n",
      " [44.7378881  36.11295855]\n",
      " [44.73800075 36.11300361]\n",
      " [44.73809838 36.11303741]\n",
      " [44.73818851 36.11306369]\n",
      " [44.73826361 36.11308247]\n",
      " [44.7383312  36.11309749]\n",
      " [44.73838377 36.113105  ]\n",
      " [44.73842883 36.11311251]\n",
      " [44.73846263 36.11311626]\n",
      " [44.73849267 36.11312002]\n",
      " [44.73851895 36.11312002]\n",
      " [44.73853773 36.11312002]\n",
      " [10.         40.        ]]\n"
     ]
    }
   ],
   "source": [
    "start, goal = [34,40], [10, 40]\n",
    "img_nb = 0\n",
    "generate(start, goal, 2)"
   ]
  },
  {
   "cell_type": "code",
   "execution_count": null,
   "metadata": {},
   "outputs": [],
   "source": []
  }
 ],
 "metadata": {
  "kernelspec": {
   "display_name": "Python 3",
   "language": "python",
   "name": "python3"
  },
  "language_info": {
   "codemirror_mode": {
    "name": "ipython",
    "version": 3
   },
   "file_extension": ".py",
   "mimetype": "text/x-python",
   "name": "python",
   "nbconvert_exporter": "python",
   "pygments_lexer": "ipython3",
   "version": "3.7.3"
  }
 },
 "nbformat": 4,
 "nbformat_minor": 2
}
