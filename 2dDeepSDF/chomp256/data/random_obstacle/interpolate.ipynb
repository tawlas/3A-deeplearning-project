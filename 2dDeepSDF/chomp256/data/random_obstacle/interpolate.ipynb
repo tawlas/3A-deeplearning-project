{
 "cells": [
  {
   "cell_type": "code",
   "execution_count": 21,
   "metadata": {},
   "outputs": [],
   "source": [
    "from glob import glob\n",
    "import numpy as np\n",
    "import matplotlib.pyplot as plt\n",
    "import os, json\n",
    "from scipy.interpolate import InterpolatedUnivariateSpline, interp1d"
   ]
  },
  {
   "cell_type": "code",
   "execution_count": 2,
   "metadata": {},
   "outputs": [],
   "source": [
    "data_folder = '/Users/lastaw/Documents/paper/code/traj/2dDeepSDF/data/random_obstacle/trajectories'\n",
    "filenames = glob(os.path.join(data_folder, '*.json'))"
   ]
  },
  {
   "cell_type": "code",
   "execution_count": 9,
   "metadata": {},
   "outputs": [],
   "source": [
    "data = json.load(open(filenames[0], 'r'))"
   ]
  },
  {
   "cell_type": "code",
   "execution_count": 10,
   "metadata": {},
   "outputs": [
    {
     "data": {
      "text/plain": [
       "'/Users/lastaw/Documents/paper/code/traj/2dDeepSDF/data/random_obstacle/trajectories/000779.json'"
      ]
     },
     "execution_count": 10,
     "metadata": {},
     "output_type": "execute_result"
    }
   ],
   "source": [
    "filenames[0]"
   ]
  },
  {
   "cell_type": "code",
   "execution_count": null,
   "metadata": {},
   "outputs": [],
   "source": [
    "json_file = {}"
   ]
  },
  {
   "cell_type": "code",
   "execution_count": 18,
   "metadata": {},
   "outputs": [],
   "source": [
    "#loop through all the data to consider all traj. Here i take only one traj\n",
    "sample = np.array(data['1'])"
   ]
  },
  {
   "cell_type": "code",
   "execution_count": 19,
   "metadata": {},
   "outputs": [],
   "source": [
    "def spline(sample):\n",
    "    data_sorted = np.array(sorted(sample, key=lambda x: x[0]))\n",
    "    s = interp1d(data_sorted[:,0], data_sorted[:,1])\n",
    "    return s"
   ]
  },
  {
   "cell_type": "code",
   "execution_count": 22,
   "metadata": {},
   "outputs": [],
   "source": [
    "s = spline(sample)"
   ]
  },
  {
   "cell_type": "code",
   "execution_count": 23,
   "metadata": {},
   "outputs": [],
   "source": [
    "x = sample[:,0]"
   ]
  },
  {
   "cell_type": "code",
   "execution_count": 29,
   "metadata": {},
   "outputs": [],
   "source": [
    "x_new = np.linspace(np.min(x), np.max(x), num=10)"
   ]
  },
  {
   "cell_type": "code",
   "execution_count": 30,
   "metadata": {},
   "outputs": [],
   "source": [
    "y_new = s(x_new)"
   ]
  },
  {
   "cell_type": "code",
   "execution_count": 43,
   "metadata": {},
   "outputs": [
    {
     "data": {
      "text/plain": [
       "array([62.        , 57.17333187, 53.37040329, 49.56747471, 46.32695181,\n",
       "       43.11533278, 39.90371375, 34.53231933, 26.95297182, 19.        ])"
      ]
     },
     "execution_count": 43,
     "metadata": {},
     "output_type": "execute_result"
    }
   ],
   "source": [
    "y_new"
   ]
  },
  {
   "cell_type": "code",
   "execution_count": 44,
   "metadata": {},
   "outputs": [],
   "source": [
    "sample_new = np.stack([x_new, y_new], axis=1)"
   ]
  },
  {
   "cell_type": "code",
   "execution_count": 45,
   "metadata": {},
   "outputs": [
    {
     "data": {
      "text/plain": [
       "array([[27.        , 62.        ],\n",
       "       [30.33333333, 57.17333187],\n",
       "       [33.66666667, 53.37040329],\n",
       "       [37.        , 49.56747471],\n",
       "       [40.33333333, 46.32695181],\n",
       "       [43.66666667, 43.11533278],\n",
       "       [47.        , 39.90371375],\n",
       "       [50.33333333, 34.53231933],\n",
       "       [53.66666667, 26.95297182],\n",
       "       [57.        , 19.        ]])"
      ]
     },
     "execution_count": 45,
     "metadata": {},
     "output_type": "execute_result"
    }
   ],
   "source": [
    "sample_new"
   ]
  },
  {
   "cell_type": "code",
   "execution_count": null,
   "metadata": {},
   "outputs": [],
   "source": [
    "def spline(sample):\n",
    "    data_sorted = np.array(sorted(sample, key=lambda x: x[0]))\n",
    "    s = interp1d(data_sorted[:,0], data_sorted[:,1])\n",
    "    return s"
   ]
  },
  {
   "cell_type": "code",
   "execution_count": null,
   "metadata": {},
   "outputs": [],
   "source": [
    "def interpolate_traj(sample, n_points):\n",
    "    ###############\n",
    "    def spline(sample):\n",
    "        data_sorted = np.array(sorted(sample, key=lambda x: x[0]))\n",
    "        s = interp1d(data_sorted[:,0], data_sorted[:,1])\n",
    "        return s\n",
    "    ###############\n",
    "    \n",
    "    s = spline(sample)\n",
    "    x = sample[:,0]\n",
    "    x_new = np.linspace(np.min(x), np.max(x), num=n_points)\n",
    "    y_new = s(x_new)\n",
    "    sample_new = np.stack([x_new, y_new], axis=1)\n",
    "    return sample_new\n",
    "    \n",
    "    \n",
    "\n",
    "    "
   ]
  },
  {
   "cell_type": "code",
   "execution_count": 32,
   "metadata": {},
   "outputs": [
    {
     "data": {
      "image/png": "[encoded data removed]",
      "text/plain": [
       "<Figure size 432x288 with 1 Axes>"
      ]
     },
     "metadata": {
      "needs_background": "light"
     },
     "output_type": "display_data"
    }
   ],
   "source": [
    "plt.figure()\n",
    "plt.plot(x, s(x))\n",
    "plt.legend(['Linear', 'InterpolatedUnivariateSpline', 'True'])\n",
    "plt.show()"
   ]
  },
  {
   "cell_type": "code",
   "execution_count": 35,
   "metadata": {},
   "outputs": [
    {
     "data": {
      "image/png": "[encoded data removed]",
      "text/plain": [
       "<Figure size 432x288 with 1 Axes>"
      ]
     },
     "metadata": {
      "needs_background": "light"
     },
     "output_type": "display_data"
    }
   ],
   "source": [
    "plt.figure()\n",
    "plt.plot(x_new, y_new, 'b', x, s(x), 'r')\n",
    "plt.legend(['Linear', 'True'])\n",
    "plt.show()"
   ]
  },
  {
   "cell_type": "markdown",
   "metadata": {},
   "source": [
    "inter script for all dataset"
   ]
  },
  {
   "cell_type": "code",
   "execution_count": 1,
   "metadata": {},
   "outputs": [],
   "source": [
    "from glob import glob\n",
    "import numpy as np\n",
    "import matplotlib.pyplot as plt\n",
    "from tqdm import tqdm\n",
    "import os, json\n",
    "from scipy.interpolate import InterpolatedUnivariateSpline, interp1d\n",
    "\n",
    "data_folder = '/Users/lastaw/Documents/paper/code/traj/2dDeepSDF/data_traj'\n",
    "filenames = sorted(glob(os.path.join(data_folder, 'trajectories','*.json')))\n",
    "\n",
    "def interpolate_traj(sample, n_points):\n",
    "    ###############\n",
    "    def spline(sample):\n",
    "        data_sorted = np.array(sorted(sample, key=lambda x: x[0]))\n",
    "        s = interp1d(data_sorted[:,0], data_sorted[:,1])\n",
    "        return s\n",
    "    ###############\n",
    "    \n",
    "    s = spline(sample)\n",
    "    x = sample[:,0]\n",
    "    x_new = np.linspace(np.min(x), np.max(x), num=n_points)\n",
    "    y_new = s(x_new)\n",
    "    sample_new = np.stack([x_new, y_new], axis=1)\n",
    "    return sample_new\n",
    "\n",
    "n_points = 10\n",
    "for filename in tqdm(filenames) :\n",
    "    file = json.load(open(filename, 'r'))\n",
    "    file_new = {}\n",
    "    for k in sorted(file.keys()):\n",
    "        sample = np.array(file[k])\n",
    "        sample_new = interpolate_traj(sample, n_points)\n",
    "        file_new[k] = sample_new.tolist()\n",
    "    with open(os.path.join(data_folder, 'trajectories_interpolated', os.path.split(filename)[1]), 'w') as out_path:\n",
    "        json.dump(file_new, out_path)\n",
    "        "
   ]
  },
  {
   "cell_type": "markdown",
   "metadata": {},
   "source": [
    "Verification"
   ]
  },
  {
   "cell_type": "code",
   "execution_count": 5,
   "metadata": {},
   "outputs": [],
   "source": [
    "data_folder = '/Users/lastaw/Documents/paper/code/traj/2dDeepSDF/data_traj'\n",
    "filenames = sorted(glob(os.path.join(data_folder, 'trajectories_interpolated','*.json')))"
   ]
  },
  {
   "cell_type": "code",
   "execution_count": 6,
   "metadata": {},
   "outputs": [],
   "source": [
    "a = json.load(open(filenames[2], 'r'))"
   ]
  },
  {
   "cell_type": "code",
   "execution_count": 7,
   "metadata": {},
   "outputs": [
    {
     "data": {
      "text/plain": [
       "True"
      ]
     },
     "execution_count": 7,
     "metadata": {},
     "output_type": "execute_result"
    }
   ],
   "source": [
    "all(len(a[k])==10 for k in a)"
   ]
  },
  {
   "cell_type": "code",
   "execution_count": 9,
   "metadata": {},
   "outputs": [
    {
     "data": {
      "text/plain": [
       "100"
      ]
     },
     "execution_count": 9,
     "metadata": {},
     "output_type": "execute_result"
    }
   ],
   "source": [
    "len(a)"
   ]
  },
  {
   "cell_type": "code",
   "execution_count": null,
   "metadata": {},
   "outputs": [],
   "source": []
  },
  {
   "cell_type": "markdown",
   "metadata": {},
   "source": [
    "Preprocess"
   ]
  },
  {
   "cell_type": "code",
   "execution_count": 10,
   "metadata": {},
   "outputs": [],
   "source": [
    "data_folder = '/Users/lastaw/Documents/paper/code/traj/2dDeepSDF/data_traj'\n",
    "filenames = sorted(glob(os.path.join(data_folder, 'trajectories_interpolated','*.json')))\n",
    "\n",
    "dataset = []\n",
    "for filename in filenames:\n",
    "    file = json.load(open(filename, 'r'))\n",
    "    for k in sorted(file.keys()):\n",
    "        dataset.append(file[k])\n",
    "dataset = np.array(dataset)\n",
    "np.save(dataset, out_path)"
   ]
  },
  {
   "cell_type": "markdown",
   "metadata": {},
   "source": [
    "Verification"
   ]
  },
  {
   "cell_type": "code",
   "execution_count": null,
   "metadata": {},
   "outputs": [],
   "source": []
  },
  {
   "cell_type": "code",
   "execution_count": null,
   "metadata": {},
   "outputs": [],
   "source": []
  },
  {
   "cell_type": "code",
   "execution_count": null,
   "metadata": {},
   "outputs": [],
   "source": []
  },
  {
   "cell_type": "code",
   "execution_count": null,
   "metadata": {},
   "outputs": [],
   "source": []
  }
 ],
 "metadata": {
  "kernelspec": {
   "display_name": "Python 3",
   "language": "python",
   "name": "python3"
  },
  "language_info": {
   "codemirror_mode": {
    "name": "ipython",
    "version": 3
   },
   "file_extension": ".py",
   "mimetype": "text/x-python",
   "name": "python",
   "nbconvert_exporter": "python",
   "pygments_lexer": "ipython3",
   "version": "3.7.3"
  }
 },
 "nbformat": 4,
 "nbformat_minor": 2
}
